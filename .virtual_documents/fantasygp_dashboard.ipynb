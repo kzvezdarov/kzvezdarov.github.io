


# | echo: false

get_ipython().run_line_magic("matplotlib", " inline")

import itertools
import warnings
import logging
import fastf1

from datetime import datetime
from tqdm import tqdm
from itables import show

warnings.filterwarnings("ignore", category=UserWarning)
warnings.filterwarnings("ignore", category=FutureWarning)

import arviz as az
import numpy as np
import pandas as pd
import seaborn as sns
from matplotlib import pyplot as plt

sns.set_theme()
sns.set_style(style="darkgrid", rc={"axes.facecolor": ".9", "grid.color": ".8"})
sns.set_palette(palette="deep")
sns_c = sns.color_palette(palette="deep")

plt.rcParams["figure.figsize"] = [10, 7]

az.style.use("arviz-docgrid")


# | echo: false

SEASONS = [2022, 2023, 2024]

RENAME_MAP = {
    "Abbreviation": "driver",
    "TeamId": "constructor",
    "ClassifiedPosition": "classified_pos",
    "GridPosition": "grid_pos",
    "Points": "points",
    "Position": "finishing_pos",
    "Status": "status",
}

GP_COLS = [
    "Abbreviation",
    "TeamId",
    "Position",
    "ClassifiedPosition",
    "GridPosition",
    "Points",
    "Status",
]

QUALI_COLS = ["Abbreviation", "Position"]

GP_DATA_COLS = [
    "season",
    "round",
    "circuit",
    "driver",
    "constructor",
    "qualifying_pos",
    "grid_pos",
    "classified_pos",
    "finishing_pos",
    "points",
    "fastest_lap",
    "status",
]


# | echo: false


def get_gp_data(season, gp):
    quali_session = fastf1.get_session(
        year=season, gp=gp.RoundNumber, identifier="Qualifying"
    )
    quali_session.load(telemetry=False, laps=False, weather=True)

    gp_session = fastf1.get_session(year=season, gp=gp.RoundNumber, identifier="Race")
    gp_session.load(telemetry=False, laps=True, weather=True)

    return (
        gp_session.results[GP_COLS]
        .rename(RENAME_MAP, axis=1)
        .join(
            quali_session.results[QUALI_COLS]
            .rename(RENAME_MAP, axis=1)
            .set_index("driver"),
            on="driver",
            rsuffix="_qualifying",
        )
        .rename({"finishing_pos_qualifying": "qualifying_pos"}, axis=1)
        .assign(
            fastest_lap=lambda df: df["driver"]
            == gp_session.laps.pick_fastest().Driver,
            circuit=gp.Location,
            round=gp.RoundNumber,
            season=season,
        )
    )[GP_DATA_COLS]


def get_season_data(season):
    schedule = fastf1.get_event_schedule(season, include_testing=False)
    gp_list = list(schedule[["RoundNumber", "Location", "EventDate"]].itertuples())

    season_data = []
    for gp in tqdm(gp_list):
        if gp.EventDate <= datetime.now():
            season_data.append(get_gp_data(season, gp))

    return pd.concat(season_data)


def get_seasons_data(seasons):
    return pd.concat([get_season_data(season) for season in seasons]).reset_index(
        drop=True
    )


# | output: false
# | echo: false

logging.disable(logging.CRITICAL)

data_df = get_seasons_data(SEASONS)

logging.disable(logging.NOTSET)


# | echo: false

DATASET_PATH = {"gp": "results", "quali": "qualifying"}
STATUS_FINISHED = ["Finished", "+1 Lap", "+2 Laps"]


def add_scoring_cols(df: pd.DataFrame) -> pd.DataFrame:
    return df.assign(
        # Grid value of 0 indicates pit lane start; here we set that to 99
        # to simplify the check for who won out in qualifying.
        grid_pos=lambda x: x["grid_pos"].where(x["grid_pos"] != 0, 20)
    ).assign(
        # Positions gained compared to the starting grid position; scoring doesn't
        # care about positions lost, so we set anything below 0 to 0.
        positions_gained=lambda x: np.maximum(x["grid_pos"] - x["finishing_pos"], 0),
        # Whether the driver won pole position
        has_pole=lambda x: x["qualifying_pos"] == 1,
        # Whether the driver beat their teammate in qualifying
        beat_teammate_quali=lambda x: x.groupby(
            # Each group is per race, per constructor, so only 2 rows - one for each driver.
            ["season", "circuit", "constructor"],
            group_keys=False,
        ).apply(
            # Smaller grid pos. = better; the grid position is compared
            # to the reversed grid array in the group (essentially
            # we create a cartesian product of the grid pos.)
            lambda g: g["qualifying_pos"]
            < g["qualifying_pos"].iloc[::-1].values
        ),
        # Same as the previous column, but for finishing position in the race.
        beat_teammate_race=lambda x: x.groupby(
            ["season", "circuit", "constructor"], group_keys=False
        ).apply(
            lambda g: (g["finishing_pos"] < g["finishing_pos"].iloc[::-1].values)
            & g["status"].isin(STATUS_FINISHED)
        ),
        has_fastest_lap=lambda x: x["fastest_lap"] == 1,
    )


def score_driver(x):
    return pd.Series(
        x["has_pole"] * 10 + x["beat_teammate_quali"] * 5, dtype=float
    ) + pd.Series(
        x["points"] + x["positions_gained"] * 2 + x["beat_teammate_race"] * 5,
        dtype=float,
    ).where(
        x["status"].isin(STATUS_FINISHED), 0
    )


def score_constructor(x):
    finished = x["status"].isin(STATUS_FINISHED)
    match finished.sum():
        case 2:
            finish_bonus = 5
        case 1:
            finish_bonus = 2
        case _:
            finish_bonus = 0

    return x["points"].sum() + x[finished]["positions_gained"].sum() + finish_bonus


def score_fantasy_points(df: pd.DataFrame) -> pd.DataFrame:
    return df.assign(
        driver_fp=score_driver,
        # Constructor points need to be joined back in on the grouping columns, in order to
        # fill in the missing spots with duplicate values - since we have 20 drivers, but 10 constructors,
        # the group has fewer rows and needs to be broadcast per group on the index.
        constructor_fp=lambda x: x.join(
            x.groupby(["season", "circuit", "constructor"])
            .apply(score_constructor)
            .rename("constructor_points"),
            on=["season", "circuit", "constructor"],
        )["constructor_points"],
    )


# | echo: false

score_df = (
    data_df.pipe(add_scoring_cols)
    .pipe(score_fantasy_points)
    .sort_values(["season", "round", "finishing_pos"], ascending=[False, False, True])
)


drivers_price_df = pd.melt(
    pd.DataFrame.from_dict(
        {
            "season": 2024,
            "round": [1, 2, 3, 4, 5, 6, 7],
            "circuit": ["Sakhir", "Jeddah", "Melbourne", "Suzuka", "Shanghai", "Miami", "Imola"],
            "VER": [30.0, 30.0, 31.0, 31.0, np.nan, np.nan, 32],
            "PER": [20.0, 20.0, 21.0, 20.0, np.nan, np.nan, 18],
            "HAM": [19.0, 19.0, 18.0, 17.5, np.nan, np.nan, 17],
            "RUS": [15.0, 15.0, 16.0, 15.5, np.nan, np.nan, 15],
            "LEC": [18.0, 18.0, 18.5, 18.5, np.nan, np.nan, 19.5],
            "SAI": [17.0, 17.0, 18.0, 19.5, np.nan, np.nan, 18],
            "NOR": [16.0, 16.0, 15.5, 15.5, np.nan, np.nan, 18],
            "PIA": [13.0, 13.0, 13.5, 13.0, np.nan, np.nan, 11],
            "ALO": [12.0, 12.0, 13.0, 13.0, np.nan, np.nan, 12.5],
            "STR": [8.0, 8.0, 7.0, 8.0, np.nan, np.nan, 8.0],
            "GAS": [8.0, 8.0, 6.0, 6.0, np.nan, np.nan, 6.0],
            "OCO": [8.0, 8.0, 8.5, 8.0, np.nan, np.nan, 8.5],
            "BOT": [6.0, 6.0, 5.5, 6.0, np.nan, np.nan, 6.5],
            "ZHO": [5.0, 5.0, 6.0, 5.0, np.nan, np.nan, 6.5],
            "ALB": [8.0, 8.0, 8.5, 8.0, np.nan, np.nan, 8.5],
            "SAR": [3.0, 3.0, 3.5, 4.0, np.nan, np.nan, 5.5],
            "RIC": [5.0, 5.0, 4.0, 4.0, np.nan, np.nan, 5],
            "TSU": [7.0, 7.0, 6.0, 7.5, np.nan, np.nan, 7.5],
            "HUL": [6.0, 6.0, 7.0, 8.5, np.nan, np.nan, 8.5],
            "MAG": [5.0, 5.0, 6.0, 8.0, np.nan, np.nan, 7.5],
        }
    ),
    id_vars=["season", "round", "circuit"],
    var_name="driver",
    value_name="driver_cost",
)


constructor_price_df = pd.melt(
    pd.DataFrame.from_dict(
        {
            "season": 2024,
            "round": [1, 2, 3, 4, 5, 6, 7],
            "circuit": ["Sakhir", "Jeddah", "Melbourne", "Suzuka", "Shanghai", "Miami", "Imola"],
            "red_bull": [27.0, 27.0, 27.5, 27.5, np.nan, np.nan, 27.5],
            "mercedes": [18.0, 18.0, 17.5, 17.0, np.nan, np.nan, 17],
            "ferrari": [18.0, 18.0, 19.0, 20.5, np.nan, np.nan, 21],
            "mclaren": [16.0, 16.0, 16.0, 17.0, np.nan, np.nan, 19],
            "aston_martin": [12.0, 12.0, 12.0, 13.0, np.nan, np.nan, 12],
            "rb": [6.0, 6.0, 5.5, 5.5, np.nan, np.nan, 7],
            "williams": [6.0, 6.0, 6.0, 5.5, np.nan, np.nan, 6.5],
            "alpine": [8.0, 8.0, 7.0, 7.0, np.nan, np.nan, 7.5],
            "sauber": [6.0, 6.0, 6.0, 5.0, np.nan, np.nan, 6],
            "haas": [4.0, 4.0, 5.0, 6.5, np.nan, np.nan, 7],
        }
    ),
    id_vars=["season", "round", "circuit"],
    var_name="constructor",
    value_name="constructor_cost",
)


display_df = score_df.merge(
    drivers_price_df, on=["season", "round", "circuit", "driver"], how="left"
).merge(
    constructor_price_df, on=["season", "round", "circuit", "constructor"], how="left"
)


# | echo: false

DISPLAY_COLS = [
    "season",
    "round",
    "circuit",
    "driver",
    "constructor",
    "qualifying_pos",
    "grid_pos",
    "finishing_pos",
    "status",
    "driver_fp",
    "constructor_fp",
    "driver_cost",
    "constructor_cost",
]





# | echo: false
# | title: Fantasy GP points for the 2022, 2023 Formula 1 season

show(
    display_df[DISPLAY_COLS],
    pageLength=20,
    showIndex=False,
    lengthMenu=[20, 22, 23, 24, 25, 50],
    footer=True,
    search={"regex": True, "caseInsensitive": True},
    maxBytes=0,
)


# | echo: false

INDEX_COLS = ["season", "round", "circuit"]

PODIUM_COLS = INDEX_COLS + ["driver", "finishing_pos"]

podium_df = (
    score_df[score_df["finishing_pos"] < 4][PODIUM_COLS]
    .pivot(columns="finishing_pos", values=["driver"], index=INDEX_COLS)
    .reset_index()
)
podium_df.columns = INDEX_COLS + ["p1", "p2", "p3"]

fastest_lap_df = data_df[data_df["fastest_lap"] == True][
    INDEX_COLS + ["driver"]
].rename({"driver": "fastest_lap"}, axis=1)
pole_df = data_df[data_df["qualifying_pos"] == 1][INDEX_COLS + ["driver"]].rename(
    {"driver": "pole"}, axis=1
)

predictions_df = podium_df.pipe(
    lambda x: pd.merge(x, fastest_lap_df, on=INDEX_COLS)
).pipe(lambda x: pd.merge(x, pole_df, on=INDEX_COLS))


def get_gp_track_status(season, gp):
    session = fastf1.get_session(year=season, gp=gp.RoundNumber, identifier="Race")
    session.load(telemetry=False, laps=True, weather=False)

    return session.track_status.assign(
        season=season, round=gp.RoundNumber, circuit=session.event.Location
    )


def get_season_track_status(season):
    schedule = fastf1.get_event_schedule(season, include_testing=False)
    gp_list = list(schedule[["RoundNumber", "Location", "EventDate"]].itertuples())

    track_statuses = []

    for gp in tqdm(gp_list):
        if gp.EventDate <= datetime.now():
            track_statuses.append(get_gp_track_status(season, gp))

    return pd.concat(track_statuses)


logging.disable(logging.CRITICAL)

track_status_df = pd.concat(
    [get_season_track_status(season) for season in SEASONS]
).reset_index(drop=True)

logging.disable(logging.NOTSET)


safety_car_df = track_status_df.groupby(INDEX_COLS).apply(
    lambda g: g[g["Message"].isin(["VSCEnding", "SCDeployed"])][["Status"]]
    .count()
    .rename({"Status": "safety_cars"})
)


predictions_df = pd.merge(predictions_df, safety_car_df.reset_index(), on=INDEX_COLS)





# | title: Fantasy GP prediction results for the 2022, 2023 Formula 1 season

PREDICTIONS_COLS = INDEX_COLS + ["pole", "p1", "p2", "p3", "fastest_lap", "safety_cars"]

show(
    predictions_df[PREDICTIONS_COLS].sort_values(
        ["season", "round"], ascending=[False, False]
    ),
    pageLength=22,
    showIndex=False,
    lengthMenu=[22, 23, 24, 25, 50],
    footer=True,
    search={"regex": True, "caseInsensitive": True},
    maxBytes=0,
)




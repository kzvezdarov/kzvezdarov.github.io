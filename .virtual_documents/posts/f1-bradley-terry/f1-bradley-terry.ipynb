





# | code-fold: true

import warnings
import logging
from itables import show

import arviz as az
import numpy as np
import pandas as pd
import pymc as pm
import fastf1
import seaborn as sns
from tqdm import tqdm
from datetime import datetime
from matplotlib import pyplot as plt


# | code-fold: true
get_ipython().run_line_magic("matplotlib", " inline")

warnings.filterwarnings("ignore", category=FutureWarning)

sns.set_theme()
sns.set_style(style="darkgrid", rc={"axes.facecolor": ".9", "grid.color": ".8"})
sns.set_palette(palette="deep")
sns_c = sns.color_palette(palette="deep")

plt.rcParams["figure.figsize"] = [10, 7]

az.style.use("arviz-docgrid")




















# | code-fold: true

SEASONS = [2022, 2023, 2024]

RENAME_MAP = {
    "Abbreviation": "driver",
    "TeamId": "constructor",
    "ClassifiedPosition": "classified_pos",
    "GridPosition": "grid_pos",
    "Points": "points",
    "Position": "finishing_pos",
    "Status": "status",
}

GP_COLS = [
    "Abbreviation",
    "TeamId",
    "Position",
    "ClassifiedPosition",
    "GridPosition",
    "Points",
    "Status",
]

QUALI_COLS = ["Abbreviation", "Position"]

GP_DATA_COLS = [
    "season",
    "round",
    "circuit",
    "driver",
    "constructor",
    "qualifying_pos",
    "grid_pos",
    "classified_pos",
    "finishing_pos",
    "points",
    "fastest_lap",
    "status",
]


# | code-fold: false


def get_gp_data(season, gp):
    quali_session = fastf1.get_session(
        year=season, gp=gp.RoundNumber, identifier="Qualifying"
    )
    quali_session.load(telemetry=False, laps=False, weather=True)

    gp_session = fastf1.get_session(year=season, gp=gp.RoundNumber, identifier="Race")
    gp_session.load(telemetry=False, laps=True, weather=True)

    return (
        gp_session.results[GP_COLS]
        .rename(RENAME_MAP, axis=1)
        .join(
            quali_session.results[QUALI_COLS]
            .rename(RENAME_MAP, axis=1)
            .set_index("driver"),
            on="driver",
            rsuffix="_qualifying",
        )
        .rename({"finishing_pos_qualifying": "qualifying_pos"}, axis=1)
        .assign(
            fastest_lap=lambda df: df["driver"]
            == gp_session.laps.pick_fastest().Driver,
            circuit=gp.Location,
            round=gp.RoundNumber,
            season=season,
        )
    )[GP_DATA_COLS]


def get_season_data(season):
    schedule = fastf1.get_event_schedule(season, include_testing=False)
    gp_list = list(schedule[["RoundNumber", "Location", "EventDate"]].itertuples())

    season_data = []
    for gp in tqdm(gp_list):
        if gp.EventDate <= datetime.now():
            season_data.append(get_gp_data(season, gp))

    return pd.concat(season_data)


def get_seasons_data(seasons):
    return pd.concat([get_season_data(season) for season in seasons]).reset_index(
        drop=True
    )


# | output: false
# | code-fold: false


logging.disable(logging.CRITICAL)

data_df = get_seasons_data(SEASONS)

logging.disable(logging.NOTSET)





# | code-fold: false

seasons_data_df = (
    pd.concat(
        [
            data_df.replace({"alphatauri": "rb", "alfa": "sauber"}),
            pd.DataFrame(
                [
                    [
                        2024,  # season
                        3,  # round
                        "Melbourne",  # circuit
                        "SAR",  # driver
                        "williams",  # constructor
                        20,  # qualifying_pos
                        20,  # grid_pos
                        "R",  # classified_pos
                        20,  # finishing_pos
                        0,  # points
                        False,  # fastest_lap
                        "Did not start",  # status
                    ]
                ],
                columns=data_df.columns,
            ),
        ]
    )
    .sort_values(["season", "round", "finishing_pos"])
    .reset_index(drop=True)
)


# | code-fold: true
show(seasons_data_df, pageLength=20)





# | code-fold: false


def get_teammate_h2h(df, pivot_col="finishing_pos"):
    group_cols = ["season", "circuit", "constructor"]
    drivers = pd.CategoricalDtype(df["driver"].unique())

    return (
        df.groupby(group_cols, group_keys=False)
        .apply(
            lambda g: g.pivot(
                index=group_cols, columns=pivot_col, values="driver"
            ).set_axis(["winner", "loser"], axis=1)
        )
        .reset_index()
        .astype({"winner": drivers, "loser": drivers})
        .dropna()
    )


# | code-fold: true

gp_teammate_h2h_df = get_teammate_h2h(seasons_data_df)
show(gp_teammate_h2h_df, caption="Teammate head-to-head", pageLength=10)





# | code-fold: false

drivers = gp_teammate_h2h_df["winner"].dtype.categories

team_h2h_winners_idx = gp_teammate_h2h_df["winner"].cat.codes
team_h2h_losers_idx = gp_teammate_h2h_df["loser"].cat.codes

observed = np.ones(team_h2h_winners_idx.shape)











# | code-fold: false

with pm.Model(coords={"driver": drivers}) as gp_teammate_h2h:
    σ_skill = pm.HalfNormal("σ_skill", sigma=1)
    μ_skill = pm.Normal("μ_skill", mu=0, sigma=1, dims="driver")
    skill = pm.Deterministic("skill", σ_skill * μ_skill, dims="driver")

    Δ_skill = skill[team_h2h_winners_idx] - skill[team_h2h_losers_idx]

    y = pm.Bernoulli("y", logit_p=Δ_skill, observed=observed)








# | code-fold: false

with gp_teammate_h2h:
    gp_teammate_h2h_prior_idata = pm.sample_prior_predictive()


# | label: fig-gp-teammate-h2h-prior-pred
# | fig-cap: "Prior predictive distribution of the base teammate head-to-head model."

az.plot_ppc(
    gp_teammate_h2h_prior_idata, group="prior", observed=False, figsize=(12, 6)
);








# | code-fold: false

with gp_teammate_h2h:
    gp_teammate_h2h_idata = pm.sample(
        target_accept=0.9, idata_kwargs={"log_likelihood": True}
    )
    pm.sample_posterior_predictive(gp_teammate_h2h_idata, extend_inferencedata=True)





# | label: fig-gp-teammate-h2h-trace
# | fig-cap: "Trace plots for the base teammate head-to-head model."

az.plot_trace(gp_teammate_h2h_idata, var_names=["μ_skill"], compact=False);





# | label: fig-gp-teammate-h2h-energy
# | fig-cap: "Energy plot for the base teammate head-to-head model."

ax = az.plot_energy(gp_teammate_h2h_idata, figsize=(12, 6))
ax.set_title("Energy Plot");





# | code-fold: true

show(az.summary(gp_teammate_h2h_idata, var_names=["μ_skill"]), pageLength=50)








# | label: fig-gp-teammate-h2h-posterior-pred
# | fig-cap: "Posterior predictive distribution for the base teammate head-to-head model"

az.plot_ppc(gp_teammate_h2h_idata, observed=False, figsize=(12, 6));








# | label: fig-gp-teammate-h2h-posterior
# | fig-cap: "Posterior distributions of driver performance against their teammate."

az.plot_forest(
    gp_teammate_h2h_idata, var_names=["μ_skill"], combined=True, figsize=(12, 6)
);








# | code-fold: false

az.loo(gp_teammate_h2h_idata)











# | code-fold: false

circuit_type_df = pd.DataFrame({
    "circuit": [
        "Austin",
        "Baku",
        "Barcelona",
        "Budapest",
        "Imola",
        "Jeddah",
        "Las Vegas",
        "Le Castellet",
        "Lusail",
        "Marina Bay",
        "Melbourne",
        "Mexico City",
        "Miami",
        "Monaco",
        "Montréal",
        "Monza",
        "Sakhir",
        "Silverstone",
        "Spa-Francorchamps",
        "Spielberg",
        "Suzuka",
        "São Paulo",
        "Yas Island",
        "Zandvoort",
    ],
    "circuit_type": [
        "permanent",
        "street",
        "permanent",
        "permanent",
        "permanent",
        "street",
        "street",
        "permanent",
        "permanent",
        "street",
        "street",
        "street",
        "permanent",
        "street",
        "permanent",
        "permanent",
        "permanent",
        "permanent",
        "permanent",
        "permanent",
        "permanent",
        "permanent",
        "permanent",
        "permanent",
    ]
})

gp_teammate_h2h_df = gp_teammate_h2h_df.merge(
    circuit_type_df,
    on="circuit",
)


# | code-fold: false

circuit_type_idx, circuit_types = pd.factorize(
    gp_teammate_h2h_df["circuit_type"], sort=True
)














# | code-fold: false

with gp_teammate_h2h_with_circuit_model:
    gp_teammate_h2h_with_circuit_idata = pm.sample(
        target_accept=0.9, idata_kwargs={"log_likelihood": True}
    )
    pm.sample_posterior_predictive(
        gp_teammate_h2h_with_circuit_idata, extend_inferencedata=True
    )


# | label: fig-gp-teammate-h2h-circuit-driver-skill-trace
# | fig-cap: "Trace plots for driver skill for the circuit-enriched teammate head-to-head model."

az.plot_trace(
    gp_teammate_h2h_with_circuit_idata, var_names=["μ_skill"], compact=False
);


# | label: fig-gp-teammate-h2h-circuit-circuit-skill-trace
# | fig-cap: "Trace plots for circuit skill for the circuit-enriched teammate head-to-head model."

az.plot_trace(
    gp_teammate_h2h_with_circuit_idata, var_names=["μ_circuit_skill"], compact=False
);





# | label: fig-gp-teammate-h2h-circuit-energy
# | fig-cap: "Energy plot for the circuit-enriched teammate head-to-head model"

ax = az.plot_energy(gp_teammate_h2h_with_circuit_idata, figsize=(12, 6))
ax.set_title("Energy Plot");








#| code-fold: false

def h2h_row(df, row):
    losers = df[df["finishing_pos"] > row["finishing_pos"]][["driver", "constructor"]]
    return pd.Series(
        [row["driver"], row["constructor"], losers["driver"], losers["constructor"]],
        index=["winner", "winner_constructor", "loser", "loser_constructor"],
    )


def explode_h2h(df):
    return df.apply(lambda row: h2h_row(df, row), axis=1).explode(
        ["loser", "loser_constructor"]
    )


def to_h2h_df(df):
    drivers = pd.CategoricalDtype(df["driver"].unique())
    constructors = pd.CategoricalDtype(df["constructor"].unique())

    return (
        df.pipe(lambda df: df[df["status"].isin(["Finished", "+1 Lap", "+2 Lap"])])
        .groupby(["season", "circuit"])
        .apply(explode_h2h)
        .reset_index()
        .drop("level_2", axis=1)
        .dropna(how="any")
        .astype(
            {
                "winner": drivers,
                "loser": drivers,
                "winner_constructor": constructors,
                "loser_constructor": constructors,
            }
        )
    )


# code-fold: true
gp_h2h_df = to_h2h_df(seasons_data_df)
show(gp_h2h_df, pageLength=25)


winners_idx = gp_h2h_df["winner"].cat.codes
losers_idx = gp_h2h_df["loser"].cat.codes
observed = np.ones(winners_idx.shape[0])








with pm.Model(coords={"driver": drivers}) as gp_h2h_base:
    σ_skill = pm.HalfNormal("σ_skill", sigma=1)
    μ_skill = pm.Normal("μ_skill", mu=0, sigma=1, dims="driver")
    skill = pm.Deterministic("skill", μ_skill * σ_skill, dims="driver")

    Δ = skill[winners_idx] - skill[losers_idx]

    y = pm.Bernoulli("y", logit_p=Δ, observed=observed)








with gp_h2h_base:
    gp_h2h_prior_idata = pm.sample_prior_predictive()


az.plot_ppc(gp_h2h_prior_idata, group="prior", observed=False);








with gp_h2h_base:
    gp_h2h_idata = pm.sample(
        target_accept=0.9, idata_kwargs={"log_likelihood": True}
    )
    pm.sample_posterior_predictive(gp_h2h_idata, extend_inferencedata=True)





az.summary(gp_h2h_idata, var_names=["μ_skill"])





with gp_h2h_base:
    gp_h2h_idata = pm.sample(
        target_accept=0.9, idata_kwargs={"log_likelihood": True}, draws=4000
    )
    pm.sample_posterior_predictive(gp_h2h_idata, extend_inferencedata=True)





az.plot_trace(gp_h2h_idata, var_names=["μ_skill"], compact=False);





az.plot_energy(gp_h2h_idata, figsize=(12, 6));





az.summary(gp_h2h_idata, var_names=["μ_skill"])








az.plot_ppc(gp_h2h_idata, observed=False);








az.plot_forest(gp_h2h_idata, var_names=["μ_skill"], combined=True, figsize=(12, 6));











# | code-fold: false

gp_h2h_df = gp_h2h_df.merge(circuit_type_df, on="circuit");

circuit_type_idx, circuit_types = pd.factorize(
    gp_h2h_df["circuit_type"], sort=True
)





with pm.Model(coords={"driver": drivers, "circuit_type": circuit_types}) as gp_h2h_circuit:
    σ_skill = pm.HalfNormal("σ_skill", sigma=1)
    μ_skill = pm.Normal("μ_skill", mu=0, sigma=1, dims="driver")
    skill = pm.Deterministic("skill", μ_skill * σ_skill, dims="driver")
    Δ_skill = skill[winners_idx] - skill[losers_idx]

    σ_circuit = pm.HalfNormal("σ_circuit", sigma=1)
    μ_circuit = pm.Normal("μ_circuit", mu=0, sigma=1, dims=("driver", "circuit_type"))
    circuit = pm.Deterministic("circuit", μ_circuit * σ_circuit)
    Δ_circuit = (circuit[winners_idx, circuit_type_idx] - circuit[losers_idx, circuit_type_idx])

    Δ = Δ_skill + Δ_circuit

    y = pm.Bernoulli("y", logit_p=Δ, observed=observed)





with gp_h2h_circuit:
    gp_h2h_circuit_prior_idata = pm.sample_prior_predictive()


az.plot_ppc(gp_h2h_circuit_prior_idata, group="prior");





with gp_h2h_circuit:
    gp_h2h_circuit_idata = pm.sample(
        target_accept=0.9, idata_kwargs={"log_likelihood": True}, draws=4000
    )
    pm.sample_posterior_predictive(gp_h2h_circuit_idata, extend_inferencedata=True)


az.plot_trace(gp_h2h_circuit_idata, var_names=["μ_skill"]);


az.plot_trace(gp_h2h_circuit_idata, var_names=["μ_circuit_skill"]);


az.plot_energy(gp_h2h_circuit_idata);


az.summary(gp_h2h_circuit_idata, var_names=["μ_skill", "μ_circuit_skill"])





az.plot_ppc(gp_h2h_circuit_idata, observed=False);





az.plot_forest(gp_h2h_circuit_idata, var_names=["μ_skill"], combined=True,  figsize=(12, 6));


az.plot_forest(gp_h2h_circuit_idata, var_names=["μ_circuit_skill"], combined=True,  figsize=(12, 12));





az.compare({"base": gp_h2h_idata, "with track": gp_h2h_circuit_idata})





constructors = gp_h2h_df["winner_constructor"].dtype.categories


winner_constructor_idx = gp_h2h_df["winner_constructor"].cat.codes
loser_constructor_idx = gp_h2h_df["loser_constructor"].cat.codes


with pm.Model(
    coords={"driver": drivers, "constructor": constructors}
) as gp_h2h_car:
    σ_skill = pm.HalfNormal("σ_skill", sigma=1)
    μ_skill = pm.Normal("μ_skill", mu=0, sigma=1, dims="driver")
    skill = pm.Deterministic("skill", μ_skill * σ_skill, dims="driver")
    Δ_skill = skill[winners_idx] - skill[losers_idx]

    σ_car = pm.HalfNormal("σ_car", sigma=1)
    μ_car = pm.Normal("μ_car", mu=0, sigma=1, dims="constructor")
    car = pm.Deterministic("car", μ_car * σ_car)
    Δ_car = (car[winner_constructor_idx] - car[loser_constructor_idx])

    Δ = Δ_skill + Δ_car

    y = pm.Bernoulli(
        "y", logit_p=Δ, observed=np.ones(winners_idx.shape[0])
    )


with gp_h2h_car:
    gp_h2h_car_prior_idata = pm.sample_prior_predictive()


az.plot_ppc(
    gp_h2h_car_prior_idata, group="prior", observed=False, figsize=(12, 6)
);


with gp_h2h_car:
    gp_h2h_car_idata = pm.sample(
        target_accept=0.9, idata_kwargs={"log_likelihood": True}, draws=4000
    )
    pm.sample_posterior_predictive(gp_h2h_car_idata, extend_inferencedata=True)


az.summary(gp_h2h_car_idata, var_names=["μ_skill", "μ_constructor_skill"])


az.plot_forest(
    gp_h2h_car_idata,
    var_names=["μ_skill"],
    combined=True,
    figsize=(12, 6),
);


az.plot_forest(
    gp_h2h_car_idata,
    var_names=["μ_car"],
    combined=True,
    figsize=(12, 6),
);


az.compare({"base": gp_h2h_idata, "with track": gp_h2h_circuit_idata, "with car": gp_h2h_car_idata})





with pm.Model(
    coords={"driver": drivers, "constructor": constructors, "circuit_type": circuit_types}
) as gp_h2h_all:
    σ_skill = pm.HalfNormal("σ_skill", sigma=1)
    μ_skill = pm.Normal("μ_skill", mu=0, sigma=1, dims="driver")
    skill = pm.Deterministic("skill", μ_skill * σ_skill, dims="driver")
    Δ_skill = skill[winners_idx] - skill[losers_idx]

    σ_car = pm.HalfNormal("σ_car", sigma=1)
    μ_car = pm.Normal("μ_car", mu=0, sigma=1, dims="constructor")
    car = pm.Deterministic("car", μ_car * σ_car)
    Δ_car = (car[winner_constructor_idx] - car[loser_constructor_idx])

    σ_circuit = pm.HalfNormal("σ_circuit", sigma=1)
    μ_circuit = pm.Normal("μ_circuit", mu=0, sigma=1, dims=("driver", "circuit_type"))
    circuit = pm.Deterministic("circuit", μ_circuit * σ_circuit)
    Δ_circuit = (circuit[winners_idx, circuit_type_idx] - circuit[losers_idx, circuit_type_idx])

    Δ = Δ_skill + Δ_car + Δ_circuit

    y = pm.Bernoulli("y", logit_p=Δ, observed=np.ones(winners_idx.shape[0]))


with gp_h2h_all:
    gp_h2h_all_idata = pm.sample(
        target_accept=0.9, idata_kwargs={"log_likelihood": True}, draws=4000
    )
    pm.sample_posterior_predictive(gp_h2h_all_idata, extend_inferencedata=True)


az.compare({"base": gp_h2h_idata, "with track": gp_h2h_circuit_idata, "with car": gp_h2h_car_idata, "all features": gp_h2h_all_idata})





with pm.Model(
    coords={"driver": drivers, "constructor": constructors, "circuit_type": circuit_types}
) as h2h:
    _winners_idx = pm.MutableData("winners_idx", winners_idx)
    _losers_idx = pm.MutableData("losers_idx", losers_idx)

    _winner_constructor_idx = pm.MutableData("winner_constructor_idx", winner_constructor_idx)
    _loser_constructor_idx = pm.MutableData("loser_constructor_idx", loser_constructor_idx)

    _circuit_type_idx = pm.MutableData("circuit_type_idx", circuit_type_idx)
    
    σ_skill = pm.HalfNormal("σ_skill", sigma=1)
    μ_skill = pm.Normal("μ_skill", mu=0, sigma=1, dims="driver")
    skill = pm.Deterministic("skill", μ_skill * σ_skill, dims="driver")
    Δ_skill = skill[_winners_idx] - skill[_losers_idx]

    σ_car = pm.HalfNormal("σ_car", sigma=1)
    μ_car = pm.Normal("μ_car", mu=0, sigma=1, dims="constructor")
    car = pm.Deterministic("car", μ_car * σ_car)
    Δ_car = (car[_winner_constructor_idx] - car[_loser_constructor_idx])

    σ_circuit = pm.HalfNormal("σ_circuit", sigma=1)
    μ_circuit = pm.Normal("μ_circuit", mu=0, sigma=1, dims=("driver", "circuit_type"))
    circuit = pm.Deterministic("circuit", μ_circuit * σ_circuit)
    Δ_circuit = (circuit[_winners_idx, _circuit_type_idx] - circuit[_losers_idx, _circuit_type_idx])

    Δ = Δ_skill + Δ_car + Δ_circuit

    y = pm.Bernoulli("y", logit_p=Δ, observed=np.ones(_winners_idx.shape[0]))


gp_h2h_all_idata


#| echo: false
weights = (
    gp_h2h_df["season"]
    .replace({2022: 0.7, 2023: 0.8, 2023: 0.9, 2024: 1})
    .values
)

with pm.Model(
    coords={"driver": drivers.categories, "constructor": constructors.categories}
) as gp_h2h_weighted:
    driver_skill_sd = pm.HalfNormal("driver_skill_sd", sigma=1)
    driver_skill_mu = pm.Normal("driver_skill_mu", mu=0, sigma=1, dims="driver")
    driver_skill = pm.Deterministic("driver_skill", driver_skill_sd * driver_skill_mu)

    car_sd = pm.HalfNormal("car_advantage_sd", sigma=1)
    car_mu = pm.Normal("car_advantage_mu", mu=0, sigma=1, dims="constructor")
    car = pm.Deterministic("car_advantage", car_mu * car_sd)

    performance_delta = (
        driver_skill[winners_idx]
        + car[winner_car_idx]
        - driver_skill[losers_idx]
        - car[loser_car_idx]
    )

    y = pm.Potential(
        "y",
        weights
        * pm.logp(
            pm.Bernoulli.dist(logit_p=performance_delta),
            value=np.ones(winners_idx.shape[0]),
        ),
    )
